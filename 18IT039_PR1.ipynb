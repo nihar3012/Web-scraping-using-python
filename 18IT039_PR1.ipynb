{
  "nbformat": 4,
  "nbformat_minor": 0,
  "metadata": {
    "colab": {
      "name": "Untitled6.ipynb",
      "provenance": []
    },
    "kernelspec": {
      "name": "python3",
      "display_name": "Python 3"
    },
    "language_info": {
      "name": "python"
    }
  },
  "cells": [
    {
      "cell_type": "code",
      "metadata": {
        "colab": {
          "base_uri": "https://localhost:8080/"
        },
        "id": "WXePx68AlfaO",
        "outputId": "15002d4e-2eea-47aa-ff89-37630a3296ea"
      },
      "source": [
        "pip install selenium"
      ],
      "execution_count": 12,
      "outputs": [
        {
          "output_type": "stream",
          "text": [
            "Requirement already satisfied: selenium in /usr/local/lib/python3.7/dist-packages (3.141.0)\n",
            "Requirement already satisfied: urllib3 in /usr/local/lib/python3.7/dist-packages (from selenium) (1.24.3)\n"
          ],
          "name": "stdout"
        }
      ]
    },
    {
      "cell_type": "code",
      "metadata": {
        "colab": {
          "base_uri": "https://localhost:8080/"
        },
        "id": "Hpgqk5qnl1z6",
        "outputId": "509c5efe-fec8-449d-9004-6a8000d73c4d"
      },
      "source": [
        "!apt install chromium-chromedriver"
      ],
      "execution_count": 13,
      "outputs": [
        {
          "output_type": "stream",
          "text": [
            "Reading package lists... Done\n",
            "Building dependency tree       \n",
            "Reading state information... Done\n",
            "chromium-chromedriver is already the newest version (91.0.4472.101-0ubuntu0.18.04.1).\n",
            "0 upgraded, 0 newly installed, 0 to remove and 40 not upgraded.\n"
          ],
          "name": "stdout"
        }
      ]
    },
    {
      "cell_type": "code",
      "metadata": {
        "colab": {
          "base_uri": "https://localhost:8080/"
        },
        "id": "qxTA9lr7mATP",
        "outputId": "1a12042b-6729-40f9-e008-aa5eaedfef04"
      },
      "source": [
        "pip install beautifulsoup4"
      ],
      "execution_count": 14,
      "outputs": [
        {
          "output_type": "stream",
          "text": [
            "Requirement already satisfied: beautifulsoup4 in /usr/local/lib/python3.7/dist-packages (4.6.3)\n"
          ],
          "name": "stdout"
        }
      ]
    },
    {
      "cell_type": "code",
      "metadata": {
        "id": "4oZ9L972mHVu"
      },
      "source": [
        "from selenium import webdriver\n",
        "from bs4 import BeautifulSoup\n",
        "import pandas as pd\n"
      ],
      "execution_count": 15,
      "outputs": []
    },
    {
      "cell_type": "code",
      "metadata": {
        "colab": {
          "base_uri": "https://localhost:8080/"
        },
        "id": "CC1Zbiejmuyy",
        "outputId": "74c5615d-0410-4fe9-b727-67173660a368"
      },
      "source": [
        "from selenium import webdriver\n",
        "chrome_options = webdriver.ChromeOptions()\n",
        "chrome_options.add_argument('--headless')\n",
        "chrome_options.add_argument('--no-sandbox')\n",
        "chrome_options.add_argument('--disable-dev-shm-usage')\n",
        "wd = webdriver.Chrome('chromedriver',chrome_options=chrome_options)\n",
        "driver =webdriver.Chrome('chromedriver',chrome_options=chrome_options)\n",
        "driver.get(\"https://www.flipkart.com/search?q=mi+mobiles&sid=tyy%2C4io&as=on&as-show=on&otracker=AS_QueryStore_OrganicAutoSuggest_1_2_na_na_na&otracker1=AS_QueryStore_OrganicAutoSuggest_1_2_na_na_na&as-pos=1&as-type=RECENT&suggestionId=mi+mobiles%7CMobiles&requestId=1fc15655-826d-4cb0-8cd9-cd9660380f80&as-backfill=on\")\n",
        "content = driver.page_source\n",
        "soup = BeautifulSoup(content)"
      ],
      "execution_count": 16,
      "outputs": [
        {
          "output_type": "stream",
          "text": [
            "/usr/local/lib/python3.7/dist-packages/ipykernel_launcher.py:6: DeprecationWarning: use options instead of chrome_options\n",
            "  \n",
            "/usr/local/lib/python3.7/dist-packages/ipykernel_launcher.py:7: DeprecationWarning: use options instead of chrome_options\n",
            "  import sys\n"
          ],
          "name": "stderr"
        }
      ]
    },
    {
      "cell_type": "code",
      "metadata": {
        "id": "7pak-StRnAur"
      },
      "source": [
        "products=[] #List to store the name of the product\n",
        "prices=[] #List to store price of the product\n",
        "features=[] #List to store rating of the product"
      ],
      "execution_count": 17,
      "outputs": []
    },
    {
      "cell_type": "code",
      "metadata": {
        "id": "vtlWssRRnCTU"
      },
      "source": [
        "for a in soup.findAll('a',href=True, attrs={'class':'_1fQZEK'}):\n",
        "    name=a.find('div',attrs={'class':'_4rR01T'})\n",
        "    price=a.find('div',attrs={'class':'_30jeq3 _1_WHN1'})\n",
        "    feature=a.find('div',attrs={'class':'fMghEO'})\n",
        "    products.append(name.text)\n",
        "    prices.append(price.text)\n",
        "    features.append(feature.text)"
      ],
      "execution_count": 18,
      "outputs": []
    },
    {
      "cell_type": "code",
      "metadata": {
        "colab": {
          "base_uri": "https://localhost:8080/"
        },
        "id": "I-oBZOcNnNJh",
        "outputId": "cc3c6632-0085-4bce-f93d-ffb4bed27d0e"
      },
      "source": [
        "df = pd.DataFrame({'Product Name':products,'Price':prices , 'Feature':features})\n",
        "print(df.head(10))"
      ],
      "execution_count": 19,
      "outputs": [
        {
          "output_type": "stream",
          "text": [
            "                           Product Name  ...                                            Feature\n",
            "0             Redmi 9A (SeaBlue, 32 GB)  ...  2 GB RAM | 32 GB ROM16.59 cm (6.53 inch) Full ...\n",
            "1      Redmi 9A (Midnight Black, 32 GB)  ...  2 GB RAM | 32 GB ROM16.59 cm (6.53 inch) Full ...\n",
            "2        Redmi 9A (Nature Green, 32 GB)  ...  3 GB RAM | 32 GB ROM | Expandable Upto 512 GB1...\n",
            "3            Redmi 9A (Sea Blue, 32 GB)  ...  3 GB RAM | 32 GB ROM | Expandable Upto 512 GB1...\n",
            "4      Redmi 9A (Midnight Black, 32 GB)  ...  3 GB RAM | 32 GB ROM | Expandable Upto 512 GB1...\n",
            "5             Redmi 9 (Sky Blue, 64 GB)  ...  4 GB RAM | 64 GB ROM16.59 cm (6.53 inch) HD+ D...\n",
            "6  Redmi 8A Dual (Midnight Grey, 32 GB)  ...  3 GB RAM | 32 GB ROM | Expandable Upto 512 GB1...\n",
            "7         Redmi 9 (Carbon Black, 64 GB)  ...  4 GB RAM | 64 GB ROM16.59 cm (6.53 inch) HD+ D...\n",
            "8        Redmi 9A (Nature Green, 32 GB)  ...  2 GB RAM | 32 GB ROM16.59 cm (6.53 inch) Full ...\n",
            "9        Mi 11 Lite (Jazz Blue, 128 GB)  ...  6 GB RAM | 128 GB ROM | Expandable Upto 512 GB...\n",
            "\n",
            "[10 rows x 3 columns]\n"
          ],
          "name": "stdout"
        }
      ]
    },
    {
      "cell_type": "code",
      "metadata": {
        "id": "bJCIxE6MnRpk"
      },
      "source": [
        "df.to_csv('products.csv', index=False, encoding='utf-8')"
      ],
      "execution_count": 20,
      "outputs": []
    }
  ]
}